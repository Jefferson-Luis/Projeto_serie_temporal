{
  "nbformat": 4,
  "nbformat_minor": 0,
  "metadata": {
    "colab": {
      "provenance": [],
      "authorship_tag": "ABX9TyN1zOntwPiGPjaseP/9rC1P",
      "include_colab_link": true
    },
    "kernelspec": {
      "name": "python3",
      "display_name": "Python 3"
    },
    "language_info": {
      "name": "python"
    }
  },
  "cells": [
    {
      "cell_type": "markdown",
      "metadata": {
        "id": "view-in-github",
        "colab_type": "text"
      },
      "source": [
        "<a href=\"https://colab.research.google.com/github/Jefferson-Luis/Projeto_serie_temporal/blob/main/Previsao_5.ipynb\" target=\"_parent\"><img src=\"https://colab.research.google.com/assets/colab-badge.svg\" alt=\"Open In Colab\"/></a>"
      ]
    },
    {
      "cell_type": "markdown",
      "source": [
        "#Projeto de Série Temporal: Previsão de Vendas\n",
        "##Contexto Fictício\n",
        "###Usando os conceitos e tecnologias de Ciência de Dados"
      ],
      "metadata": {
        "id": "zkW5NL_6K058"
      }
    },
    {
      "cell_type": "markdown",
      "source": [
        "Você pode usar o método SARIMAX (Seasonal AutoRegressive Integrated Moving Average com Explanatory Variables) do pacote Statsmodels para fazer previsões de séries temporais. Aqui está um exemplo de código em Python para fazer uma previsão para os próximos 5 dias:"
      ],
      "metadata": {
        "id": "gRWx_o5h_UxG"
      }
    },
    {
      "cell_type": "code",
      "source": [
        "# Importando bibliotecas\n",
        "import pandas as pd\n",
        "from datetime import timedelta\n",
        "import statsmodels.api as sm\n",
        "import matplotlib.pyplot as plt\n"
      ],
      "metadata": {
        "id": "2Qz66raNFIGV"
      },
      "execution_count": 55,
      "outputs": []
    },
    {
      "cell_type": "markdown",
      "source": [
        "#1.Coletar dados"
      ],
      "metadata": {
        "id": "bxT7tq5YLO6c"
      }
    },
    {
      "cell_type": "code",
      "source": [
        "import pandas as pd\n",
        "df = pd.read_excel('/content/Dados.xlsx')\n"
      ],
      "metadata": {
        "id": "XV6KQDCVEsk0"
      },
      "execution_count": 35,
      "outputs": []
    },
    {
      "cell_type": "markdown",
      "source": [
        "#2. Preparar os dados"
      ],
      "metadata": {
        "id": "Cz8sq7FTLYK_"
      }
    },
    {
      "cell_type": "code",
      "source": [
        "# alterando o index para data\n",
        "df = df.set_index('Data')\n",
        "\n",
        "# ver o resultado da transformação\n",
        "df.head()"
      ],
      "metadata": {
        "colab": {
          "base_uri": "https://localhost:8080/",
          "height": 237
        },
        "id": "CD75sRkXFfiS",
        "outputId": "8c067269-2098-44a2-b981-7ba66bb7c978"
      },
      "execution_count": 36,
      "outputs": [
        {
          "output_type": "execute_result",
          "data": {
            "text/plain": [
              "            Vendas\n",
              "Data              \n",
              "2022-12-06     870\n",
              "2022-12-07     868\n",
              "2022-12-08    1189\n",
              "2022-12-09     742\n",
              "2022-12-10     317"
            ],
            "text/html": [
              "\n",
              "  <div id=\"df-62478420-53a3-4240-baf1-83e1e53e4f23\">\n",
              "    <div class=\"colab-df-container\">\n",
              "      <div>\n",
              "<style scoped>\n",
              "    .dataframe tbody tr th:only-of-type {\n",
              "        vertical-align: middle;\n",
              "    }\n",
              "\n",
              "    .dataframe tbody tr th {\n",
              "        vertical-align: top;\n",
              "    }\n",
              "\n",
              "    .dataframe thead th {\n",
              "        text-align: right;\n",
              "    }\n",
              "</style>\n",
              "<table border=\"1\" class=\"dataframe\">\n",
              "  <thead>\n",
              "    <tr style=\"text-align: right;\">\n",
              "      <th></th>\n",
              "      <th>Vendas</th>\n",
              "    </tr>\n",
              "    <tr>\n",
              "      <th>Data</th>\n",
              "      <th></th>\n",
              "    </tr>\n",
              "  </thead>\n",
              "  <tbody>\n",
              "    <tr>\n",
              "      <th>2022-12-06</th>\n",
              "      <td>870</td>\n",
              "    </tr>\n",
              "    <tr>\n",
              "      <th>2022-12-07</th>\n",
              "      <td>868</td>\n",
              "    </tr>\n",
              "    <tr>\n",
              "      <th>2022-12-08</th>\n",
              "      <td>1189</td>\n",
              "    </tr>\n",
              "    <tr>\n",
              "      <th>2022-12-09</th>\n",
              "      <td>742</td>\n",
              "    </tr>\n",
              "    <tr>\n",
              "      <th>2022-12-10</th>\n",
              "      <td>317</td>\n",
              "    </tr>\n",
              "  </tbody>\n",
              "</table>\n",
              "</div>\n",
              "      <button class=\"colab-df-convert\" onclick=\"convertToInteractive('df-62478420-53a3-4240-baf1-83e1e53e4f23')\"\n",
              "              title=\"Convert this dataframe to an interactive table.\"\n",
              "              style=\"display:none;\">\n",
              "        \n",
              "  <svg xmlns=\"http://www.w3.org/2000/svg\" height=\"24px\"viewBox=\"0 0 24 24\"\n",
              "       width=\"24px\">\n",
              "    <path d=\"M0 0h24v24H0V0z\" fill=\"none\"/>\n",
              "    <path d=\"M18.56 5.44l.94 2.06.94-2.06 2.06-.94-2.06-.94-.94-2.06-.94 2.06-2.06.94zm-11 1L8.5 8.5l.94-2.06 2.06-.94-2.06-.94L8.5 2.5l-.94 2.06-2.06.94zm10 10l.94 2.06.94-2.06 2.06-.94-2.06-.94-.94-2.06-.94 2.06-2.06.94z\"/><path d=\"M17.41 7.96l-1.37-1.37c-.4-.4-.92-.59-1.43-.59-.52 0-1.04.2-1.43.59L10.3 9.45l-7.72 7.72c-.78.78-.78 2.05 0 2.83L4 21.41c.39.39.9.59 1.41.59.51 0 1.02-.2 1.41-.59l7.78-7.78 2.81-2.81c.8-.78.8-2.07 0-2.86zM5.41 20L4 18.59l7.72-7.72 1.47 1.35L5.41 20z\"/>\n",
              "  </svg>\n",
              "      </button>\n",
              "      \n",
              "  <style>\n",
              "    .colab-df-container {\n",
              "      display:flex;\n",
              "      flex-wrap:wrap;\n",
              "      gap: 12px;\n",
              "    }\n",
              "\n",
              "    .colab-df-convert {\n",
              "      background-color: #E8F0FE;\n",
              "      border: none;\n",
              "      border-radius: 50%;\n",
              "      cursor: pointer;\n",
              "      display: none;\n",
              "      fill: #1967D2;\n",
              "      height: 32px;\n",
              "      padding: 0 0 0 0;\n",
              "      width: 32px;\n",
              "    }\n",
              "\n",
              "    .colab-df-convert:hover {\n",
              "      background-color: #E2EBFA;\n",
              "      box-shadow: 0px 1px 2px rgba(60, 64, 67, 0.3), 0px 1px 3px 1px rgba(60, 64, 67, 0.15);\n",
              "      fill: #174EA6;\n",
              "    }\n",
              "\n",
              "    [theme=dark] .colab-df-convert {\n",
              "      background-color: #3B4455;\n",
              "      fill: #D2E3FC;\n",
              "    }\n",
              "\n",
              "    [theme=dark] .colab-df-convert:hover {\n",
              "      background-color: #434B5C;\n",
              "      box-shadow: 0px 1px 3px 1px rgba(0, 0, 0, 0.15);\n",
              "      filter: drop-shadow(0px 1px 2px rgba(0, 0, 0, 0.3));\n",
              "      fill: #FFFFFF;\n",
              "    }\n",
              "  </style>\n",
              "\n",
              "      <script>\n",
              "        const buttonEl =\n",
              "          document.querySelector('#df-62478420-53a3-4240-baf1-83e1e53e4f23 button.colab-df-convert');\n",
              "        buttonEl.style.display =\n",
              "          google.colab.kernel.accessAllowed ? 'block' : 'none';\n",
              "\n",
              "        async function convertToInteractive(key) {\n",
              "          const element = document.querySelector('#df-62478420-53a3-4240-baf1-83e1e53e4f23');\n",
              "          const dataTable =\n",
              "            await google.colab.kernel.invokeFunction('convertToInteractive',\n",
              "                                                     [key], {});\n",
              "          if (!dataTable) return;\n",
              "\n",
              "          const docLinkHtml = 'Like what you see? Visit the ' +\n",
              "            '<a target=\"_blank\" href=https://colab.research.google.com/notebooks/data_table.ipynb>data table notebook</a>'\n",
              "            + ' to learn more about interactive tables.';\n",
              "          element.innerHTML = '';\n",
              "          dataTable['output_type'] = 'display_data';\n",
              "          await google.colab.output.renderOutput(dataTable, element);\n",
              "          const docLink = document.createElement('div');\n",
              "          docLink.innerHTML = docLinkHtml;\n",
              "          element.appendChild(docLink);\n",
              "        }\n",
              "      </script>\n",
              "    </div>\n",
              "  </div>\n",
              "  "
            ]
          },
          "metadata": {},
          "execution_count": 36
        }
      ]
    },
    {
      "cell_type": "code",
      "source": [
        "# Valores ausentes\n",
        "print(\"\"\"Quantos valores faltantes existem em cada variável?\n",
        "Variável | Valores ausentes\"\"\")\n",
        "df.isnull().sum()"
      ],
      "metadata": {
        "colab": {
          "base_uri": "https://localhost:8080/"
        },
        "id": "KyW53boRLh8N",
        "outputId": "56dc6b91-bd63-44f0-8ad2-8c110b794dc4"
      },
      "execution_count": 56,
      "outputs": [
        {
          "output_type": "stream",
          "name": "stdout",
          "text": [
            "Quantos valores faltantes existem em cada variável?\n",
            "Variável | Valores ausentes\n"
          ]
        },
        {
          "output_type": "execute_result",
          "data": {
            "text/plain": [
              "Vendas    0\n",
              "dtype: int64"
            ]
          },
          "metadata": {},
          "execution_count": 56
        }
      ]
    },
    {
      "cell_type": "code",
      "source": [
        "# Valores duplicados\n",
        "df.drop_duplicates(inplace = True)\n"
      ],
      "metadata": {
        "id": "UlupZqh5LlEJ"
      },
      "execution_count": 57,
      "outputs": []
    },
    {
      "cell_type": "code",
      "source": [
        "# Forma do conjunto de dados\n",
        "print(\"Numero de linhas:\", df.shape[0])\n",
        "print(\"Numero de colunas: \", df.shape[1])"
      ],
      "metadata": {
        "colab": {
          "base_uri": "https://localhost:8080/"
        },
        "id": "UK6gA5oKLonI",
        "outputId": "5e6a8039-fff2-4522-838a-f420c4b55c41"
      },
      "execution_count": 58,
      "outputs": [
        {
          "output_type": "stream",
          "name": "stdout",
          "text": [
            "Numero de linhas: 44\n",
            "Numero de colunas:  1\n"
          ]
        }
      ]
    },
    {
      "cell_type": "markdown",
      "source": [
        "Estatísticas das vendas :\n",
        "\n",
        "* Média: 763,90\n",
        "* Desvio padrão: 435,36\n",
        "* Valor minimo: 18\n",
        "* Maior venda: 1692."
      ],
      "metadata": {
        "id": "X99AN_e5LwkJ"
      }
    },
    {
      "cell_type": "code",
      "source": [
        "df.describe().transpose()"
      ],
      "metadata": {
        "colab": {
          "base_uri": "https://localhost:8080/",
          "height": 81
        },
        "id": "FxLwAQROLueY",
        "outputId": "f23e1f01-9e13-4ed3-f1c8-1c0dc9399fe4"
      },
      "execution_count": 59,
      "outputs": [
        {
          "output_type": "execute_result",
          "data": {
            "text/plain": [
              "        count        mean         std   min    25%    50%     75%     max\n",
              "Vendas   44.0  763.909091  435.365114  18.0  401.5  810.5  1065.5  1692.0"
            ],
            "text/html": [
              "\n",
              "  <div id=\"df-1e1979ec-878d-4063-ac83-b410929f61c9\">\n",
              "    <div class=\"colab-df-container\">\n",
              "      <div>\n",
              "<style scoped>\n",
              "    .dataframe tbody tr th:only-of-type {\n",
              "        vertical-align: middle;\n",
              "    }\n",
              "\n",
              "    .dataframe tbody tr th {\n",
              "        vertical-align: top;\n",
              "    }\n",
              "\n",
              "    .dataframe thead th {\n",
              "        text-align: right;\n",
              "    }\n",
              "</style>\n",
              "<table border=\"1\" class=\"dataframe\">\n",
              "  <thead>\n",
              "    <tr style=\"text-align: right;\">\n",
              "      <th></th>\n",
              "      <th>count</th>\n",
              "      <th>mean</th>\n",
              "      <th>std</th>\n",
              "      <th>min</th>\n",
              "      <th>25%</th>\n",
              "      <th>50%</th>\n",
              "      <th>75%</th>\n",
              "      <th>max</th>\n",
              "    </tr>\n",
              "  </thead>\n",
              "  <tbody>\n",
              "    <tr>\n",
              "      <th>Vendas</th>\n",
              "      <td>44.0</td>\n",
              "      <td>763.909091</td>\n",
              "      <td>435.365114</td>\n",
              "      <td>18.0</td>\n",
              "      <td>401.5</td>\n",
              "      <td>810.5</td>\n",
              "      <td>1065.5</td>\n",
              "      <td>1692.0</td>\n",
              "    </tr>\n",
              "  </tbody>\n",
              "</table>\n",
              "</div>\n",
              "      <button class=\"colab-df-convert\" onclick=\"convertToInteractive('df-1e1979ec-878d-4063-ac83-b410929f61c9')\"\n",
              "              title=\"Convert this dataframe to an interactive table.\"\n",
              "              style=\"display:none;\">\n",
              "        \n",
              "  <svg xmlns=\"http://www.w3.org/2000/svg\" height=\"24px\"viewBox=\"0 0 24 24\"\n",
              "       width=\"24px\">\n",
              "    <path d=\"M0 0h24v24H0V0z\" fill=\"none\"/>\n",
              "    <path d=\"M18.56 5.44l.94 2.06.94-2.06 2.06-.94-2.06-.94-.94-2.06-.94 2.06-2.06.94zm-11 1L8.5 8.5l.94-2.06 2.06-.94-2.06-.94L8.5 2.5l-.94 2.06-2.06.94zm10 10l.94 2.06.94-2.06 2.06-.94-2.06-.94-.94-2.06-.94 2.06-2.06.94z\"/><path d=\"M17.41 7.96l-1.37-1.37c-.4-.4-.92-.59-1.43-.59-.52 0-1.04.2-1.43.59L10.3 9.45l-7.72 7.72c-.78.78-.78 2.05 0 2.83L4 21.41c.39.39.9.59 1.41.59.51 0 1.02-.2 1.41-.59l7.78-7.78 2.81-2.81c.8-.78.8-2.07 0-2.86zM5.41 20L4 18.59l7.72-7.72 1.47 1.35L5.41 20z\"/>\n",
              "  </svg>\n",
              "      </button>\n",
              "      \n",
              "  <style>\n",
              "    .colab-df-container {\n",
              "      display:flex;\n",
              "      flex-wrap:wrap;\n",
              "      gap: 12px;\n",
              "    }\n",
              "\n",
              "    .colab-df-convert {\n",
              "      background-color: #E8F0FE;\n",
              "      border: none;\n",
              "      border-radius: 50%;\n",
              "      cursor: pointer;\n",
              "      display: none;\n",
              "      fill: #1967D2;\n",
              "      height: 32px;\n",
              "      padding: 0 0 0 0;\n",
              "      width: 32px;\n",
              "    }\n",
              "\n",
              "    .colab-df-convert:hover {\n",
              "      background-color: #E2EBFA;\n",
              "      box-shadow: 0px 1px 2px rgba(60, 64, 67, 0.3), 0px 1px 3px 1px rgba(60, 64, 67, 0.15);\n",
              "      fill: #174EA6;\n",
              "    }\n",
              "\n",
              "    [theme=dark] .colab-df-convert {\n",
              "      background-color: #3B4455;\n",
              "      fill: #D2E3FC;\n",
              "    }\n",
              "\n",
              "    [theme=dark] .colab-df-convert:hover {\n",
              "      background-color: #434B5C;\n",
              "      box-shadow: 0px 1px 3px 1px rgba(0, 0, 0, 0.15);\n",
              "      filter: drop-shadow(0px 1px 2px rgba(0, 0, 0, 0.3));\n",
              "      fill: #FFFFFF;\n",
              "    }\n",
              "  </style>\n",
              "\n",
              "      <script>\n",
              "        const buttonEl =\n",
              "          document.querySelector('#df-1e1979ec-878d-4063-ac83-b410929f61c9 button.colab-df-convert');\n",
              "        buttonEl.style.display =\n",
              "          google.colab.kernel.accessAllowed ? 'block' : 'none';\n",
              "\n",
              "        async function convertToInteractive(key) {\n",
              "          const element = document.querySelector('#df-1e1979ec-878d-4063-ac83-b410929f61c9');\n",
              "          const dataTable =\n",
              "            await google.colab.kernel.invokeFunction('convertToInteractive',\n",
              "                                                     [key], {});\n",
              "          if (!dataTable) return;\n",
              "\n",
              "          const docLinkHtml = 'Like what you see? Visit the ' +\n",
              "            '<a target=\"_blank\" href=https://colab.research.google.com/notebooks/data_table.ipynb>data table notebook</a>'\n",
              "            + ' to learn more about interactive tables.';\n",
              "          element.innerHTML = '';\n",
              "          dataTable['output_type'] = 'display_data';\n",
              "          await google.colab.output.renderOutput(dataTable, element);\n",
              "          const docLink = document.createElement('div');\n",
              "          docLink.innerHTML = docLinkHtml;\n",
              "          element.appendChild(docLink);\n",
              "        }\n",
              "      </script>\n",
              "    </div>\n",
              "  </div>\n",
              "  "
            ]
          },
          "metadata": {},
          "execution_count": 59
        }
      ]
    },
    {
      "cell_type": "markdown",
      "source": [
        "# 3.Cria o Modelo SARIMAX"
      ],
      "metadata": {
        "id": "JuwBXWYWL-AV"
      }
    },
    {
      "cell_type": "code",
      "source": [
        "# Criar o modelo \n",
        "model = sm.tsa.SARIMAX(df, order=(1,0,0), seasonal_order=(1,1,1,12))\n",
        "model_fit = model.fit()\n",
        "\n",
        "# Fazer a previsão para os próximos 5 dias\n",
        "pred = model_fit.get_forecast(steps=5).predicted_mean\n",
        "\n",
        "# Visualizar as previsões\n",
        "print('---------------------------------------')\n",
        "print()\n",
        "print('Previsões para os próximos cinco dias ')\n",
        "print(pred)\n",
        "print()\n",
        "print('---------------------------------------')\n",
        "\n"
      ],
      "metadata": {
        "colab": {
          "base_uri": "https://localhost:8080/"
        },
        "id": "s3nxZzQXD9cD",
        "outputId": "0d7af7d8-c5b6-4b37-820e-cb397d96b091"
      },
      "execution_count": 38,
      "outputs": [
        {
          "output_type": "stream",
          "name": "stderr",
          "text": [
            "/usr/local/lib/python3.8/dist-packages/statsmodels/tsa/base/tsa_model.py:524: ValueWarning: No frequency information was provided, so inferred frequency D will be used.\n",
            "  warnings.warn('No frequency information was'\n",
            "/usr/local/lib/python3.8/dist-packages/statsmodels/tsa/base/tsa_model.py:524: ValueWarning: No frequency information was provided, so inferred frequency D will be used.\n",
            "  warnings.warn('No frequency information was'\n",
            "/usr/local/lib/python3.8/dist-packages/statsmodels/tsa/statespace/sarimax.py:866: UserWarning: Too few observations to estimate starting parameters for seasonal ARMA. All parameters except for variances will be set to zeros.\n",
            "  warn('Too few observations to estimate starting parameters%s.'\n"
          ]
        },
        {
          "output_type": "stream",
          "name": "stdout",
          "text": [
            "---------------------------------------\n",
            "\n",
            "Previsões para os próximos cinco dias \n",
            "2023-01-21    691.769816\n",
            "2023-01-22    505.394252\n",
            "2023-01-23    351.921998\n",
            "2023-01-24    602.624334\n",
            "2023-01-25    598.718809\n",
            "Freq: D, Name: predicted_mean, dtype: float64\n",
            "\n",
            "---------------------------------------\n"
          ]
        },
        {
          "output_type": "stream",
          "name": "stderr",
          "text": [
            "/usr/local/lib/python3.8/dist-packages/statsmodels/base/model.py:566: ConvergenceWarning: Maximum Likelihood optimization failed to converge. Check mle_retvals\n",
            "  warnings.warn(\"Maximum Likelihood optimization failed to \"\n"
          ]
        }
      ]
    },
    {
      "cell_type": "code",
      "source": [
        "# Criar o gráfico dos dados atuais\n",
        "plt.figure(figsize=(10, 5))\n",
        "plt.plot(df.index, df[\"Vendas\"], label=\"Dados Atuais\")\n",
        "plt.xlabel(\"Data\")\n",
        "plt.ylabel(\"Vendas\")\n",
        "plt.title(\"Dados Atuais\")\n",
        "\n",
        "# Criar o gráfico dos dados Futuros\n",
        "plt.plot(pred, label=\"Dados Futuros\")\n",
        "plt.xlabel(\"Data\")\n",
        "plt.ylabel(\"Vendas\")\n",
        "plt.title(\"Previsão de Vendas\")\n",
        "plt.legend()\n",
        "plt.show()\n",
        "\n",
        "# Plotar os dados atuais\n",
        "#plt.plot(df.index, df['Data'], label='Dados Atuais')\n",
        "\n",
        "# Plotar as previsões\n",
        "plt.figure(figsize=(12,8))\n",
        "plt.plot(pred.index, pred.values, label='Previsões')\n",
        "\n",
        "# Adicionar legenda\n",
        "plt.legend()\n",
        "\n",
        "# Exibir o gráfico\n",
        "\n",
        "plt.show()\n",
        "\n",
        "\n",
        "\n",
        "\n"
      ],
      "metadata": {
        "colab": {
          "base_uri": "https://localhost:8080/",
          "height": 816
        },
        "id": "cPNryuZRDWXy",
        "outputId": "8eae1685-f4e7-4de5-c6bf-b3dce0e401b5"
      },
      "execution_count": 53,
      "outputs": [
        {
          "output_type": "display_data",
          "data": {
            "text/plain": [
              "<Figure size 720x360 with 1 Axes>"
            ],
            "image/png": "[encoded data removed]"
          },
          "metadata": {
            "needs_background": "light"
          }
        },
        {
          "output_type": "display_data",
          "data": {
            "text/plain": [
              "<Figure size 864x576 with 1 Axes>"
            ],
            "image/png": "[encoded data removed]"
          },
          "metadata": {
            "needs_background": "light"
          }
        }
      ]
    },
    {
      "cell_type": "code",
      "source": [],
      "metadata": {
        "id": "8eiRUdvfHiRV"
      },
      "execution_count": null,
      "outputs": []
    }
  ]
}